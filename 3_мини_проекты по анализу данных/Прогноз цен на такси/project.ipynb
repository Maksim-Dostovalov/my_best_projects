{
 "cells": [
  {
   "cell_type": "code",
   "execution_count": 1,
   "metadata": {},
   "outputs": [],
   "source": [
    "import pandas as pd # Таблицы\n",
    "import numpy as np # Математика и массивы\n",
    "import matplotlib.pyplot as plt # Графики и диаграммы\n",
    "import seaborn as sns # Графики и диаграммы\n",
    "import scipy.stats as stats # Статистика"
   ]
  },
  {
   "cell_type": "code",
   "execution_count": 2,
   "metadata": {},
   "outputs": [
    {
     "data": {
      "text/html": [
       "<div>\n",
       "<style scoped>\n",
       "    .dataframe tbody tr th:only-of-type {\n",
       "        vertical-align: middle;\n",
       "    }\n",
       "\n",
       "    .dataframe tbody tr th {\n",
       "        vertical-align: top;\n",
       "    }\n",
       "\n",
       "    .dataframe thead th {\n",
       "        text-align: right;\n",
       "    }\n",
       "</style>\n",
       "<table border=\"1\" class=\"dataframe\">\n",
       "  <thead>\n",
       "    <tr style=\"text-align: right;\">\n",
       "      <th></th>\n",
       "      <th>VendorID</th>\n",
       "      <th>tpep_pickup_datetime</th>\n",
       "      <th>tpep_dropoff_datetime</th>\n",
       "      <th>passenger_count</th>\n",
       "      <th>trip_distance</th>\n",
       "      <th>RatecodeID</th>\n",
       "      <th>store_and_fwd_flag</th>\n",
       "      <th>PULocationID</th>\n",
       "      <th>DOLocationID</th>\n",
       "      <th>payment_type</th>\n",
       "      <th>total_amount</th>\n",
       "    </tr>\n",
       "  </thead>\n",
       "  <tbody>\n",
       "    <tr>\n",
       "      <th>0</th>\n",
       "      <td>2</td>\n",
       "      <td>03/25/2017 8:55:43 AM</td>\n",
       "      <td>03/25/2017 9:09:47 AM</td>\n",
       "      <td>6</td>\n",
       "      <td>3.34</td>\n",
       "      <td>1</td>\n",
       "      <td>N</td>\n",
       "      <td>100</td>\n",
       "      <td>231</td>\n",
       "      <td>1</td>\n",
       "      <td>16.56</td>\n",
       "    </tr>\n",
       "    <tr>\n",
       "      <th>1</th>\n",
       "      <td>1</td>\n",
       "      <td>04/11/2017 2:53:28 PM</td>\n",
       "      <td>04/11/2017 3:19:58 PM</td>\n",
       "      <td>1</td>\n",
       "      <td>1.80</td>\n",
       "      <td>1</td>\n",
       "      <td>N</td>\n",
       "      <td>186</td>\n",
       "      <td>43</td>\n",
       "      <td>1</td>\n",
       "      <td>20.80</td>\n",
       "    </tr>\n",
       "    <tr>\n",
       "      <th>2</th>\n",
       "      <td>1</td>\n",
       "      <td>12/15/2017 7:26:56 AM</td>\n",
       "      <td>12/15/2017 7:34:08 AM</td>\n",
       "      <td>1</td>\n",
       "      <td>1.00</td>\n",
       "      <td>1</td>\n",
       "      <td>N</td>\n",
       "      <td>262</td>\n",
       "      <td>236</td>\n",
       "      <td>1</td>\n",
       "      <td>8.75</td>\n",
       "    </tr>\n",
       "    <tr>\n",
       "      <th>3</th>\n",
       "      <td>2</td>\n",
       "      <td>05/07/2017 1:17:59 PM</td>\n",
       "      <td>05/07/2017 1:48:14 PM</td>\n",
       "      <td>1</td>\n",
       "      <td>3.70</td>\n",
       "      <td>1</td>\n",
       "      <td>N</td>\n",
       "      <td>188</td>\n",
       "      <td>97</td>\n",
       "      <td>1</td>\n",
       "      <td>27.69</td>\n",
       "    </tr>\n",
       "    <tr>\n",
       "      <th>4</th>\n",
       "      <td>2</td>\n",
       "      <td>04/15/2017 11:32:20 PM</td>\n",
       "      <td>04/15/2017 11:49:03 PM</td>\n",
       "      <td>1</td>\n",
       "      <td>4.37</td>\n",
       "      <td>1</td>\n",
       "      <td>N</td>\n",
       "      <td>4</td>\n",
       "      <td>112</td>\n",
       "      <td>2</td>\n",
       "      <td>17.80</td>\n",
       "    </tr>\n",
       "  </tbody>\n",
       "</table>\n",
       "</div>"
      ],
      "text/plain": [
       "   VendorID    tpep_pickup_datetime   tpep_dropoff_datetime  passenger_count  \\\n",
       "0         2   03/25/2017 8:55:43 AM   03/25/2017 9:09:47 AM                6   \n",
       "1         1   04/11/2017 2:53:28 PM   04/11/2017 3:19:58 PM                1   \n",
       "2         1   12/15/2017 7:26:56 AM   12/15/2017 7:34:08 AM                1   \n",
       "3         2   05/07/2017 1:17:59 PM   05/07/2017 1:48:14 PM                1   \n",
       "4         2  04/15/2017 11:32:20 PM  04/15/2017 11:49:03 PM                1   \n",
       "\n",
       "   trip_distance  RatecodeID store_and_fwd_flag  PULocationID  DOLocationID  \\\n",
       "0           3.34           1                  N           100           231   \n",
       "1           1.80           1                  N           186            43   \n",
       "2           1.00           1                  N           262           236   \n",
       "3           3.70           1                  N           188            97   \n",
       "4           4.37           1                  N             4           112   \n",
       "\n",
       "   payment_type  total_amount  \n",
       "0             1         16.56  \n",
       "1             1         20.80  \n",
       "2             1          8.75  \n",
       "3             1         27.69  \n",
       "4             2         17.80  "
      ]
     },
     "execution_count": 2,
     "metadata": {},
     "output_type": "execute_result"
    }
   ],
   "source": [
    "data = pd.read_csv('data_2017_taxi.csv', sep=',', index_col=0).\\\n",
    "    reset_index(drop=True)\n",
    "\n",
    "data.head()"
   ]
  },
  {
   "cell_type": "markdown",
   "metadata": {},
   "source": [
    "## Данные о поездках на такси в Нью-Йорке\n",
    "\n",
    "Задача для регрессии:\n",
    "- Предсказать цену поездки на такси\n",
    "\n",
    "Задача для классификации:\n",
    "- Предсказать больше ли цена на такси медианной цены на такси\n",
    "\n",
    "Задача для кластеризации:\n",
    "- Разделить поездки на максимально непохожие друг на друга кластеры и убедиться, что кластеры друг от друга различны\n",
    "\n",
    "\n",
    "## Описание Колонок Данных\n",
    "\n",
    "- **VendorID**: Код поставщика TPEP. 1 = Creative Mobile Technologies, LLC; 2 = VeriFone Inc.\n",
    "- **tpep_pickup_datetime**: Дата и время начала поездки\n",
    "- **tpep_dropoff_datetime**: Дата и время окончания поездки\n",
    "- **Passenger_count**: Количество пассажиров в транспортном средстве (значение, введенное водителем)\n",
    "- **Trip_distance**: Пройденное расстояние в милях, как указано на таксометре\n",
    "- **PULocationID**: Зона TLC Taxi (географические сегменты в Нью-Йорке), в которой таксометр был активирован\n",
    "- **DOLocationID**: Зона TLC Taxi, в которой таксометр был деактивирован\n",
    "- **RateCodeID**: Итоговый код тарифа. 1 = Стандартный тариф, 2 = JFK (аэропорт), 3 = Newark (аэропорт), 4 = Nassau или Westchester (округи), 5 = Договорная стоимость, 6 = Групповая поездка\n",
    "- **Store_and_fwd_flag**: Флаг, указывающий, хранились ли данные о поездке в памяти транспортного средства перед отправкой поставщику. Y = хранились, N = не хранились (Если хранились - соединения сетью во время поездки не было)\n",
    "- **Payment_type**: Числовой код, указывающий, как пассажир оплатил поездку. 1 = Кредитная карта, 2 = Наличные, 3 = Без оплаты, 4 = Спор, 5 = Неизвестно, 6 = Аннулированная поездка\n",
    "- **Total_amount**: Общая сумма, взимаемая с пассажиров. Не включает чаевые, оплаченные наличными\n"
   ]
  },
  {
   "cell_type": "code",
   "execution_count": 3,
   "metadata": {},
   "outputs": [
    {
     "name": "stdout",
     "output_type": "stream",
     "text": [
      "<class 'pandas.core.frame.DataFrame'>\n",
      "RangeIndex: 22699 entries, 0 to 22698\n",
      "Data columns (total 11 columns):\n",
      " #   Column                 Non-Null Count  Dtype  \n",
      "---  ------                 --------------  -----  \n",
      " 0   VendorID               22699 non-null  int64  \n",
      " 1   tpep_pickup_datetime   22699 non-null  object \n",
      " 2   tpep_dropoff_datetime  22699 non-null  object \n",
      " 3   passenger_count        22699 non-null  int64  \n",
      " 4   trip_distance          22699 non-null  float64\n",
      " 5   RatecodeID             22699 non-null  int64  \n",
      " 6   store_and_fwd_flag     22699 non-null  object \n",
      " 7   PULocationID           22699 non-null  int64  \n",
      " 8   DOLocationID           22699 non-null  int64  \n",
      " 9   payment_type           22699 non-null  int64  \n",
      " 10  total_amount           22699 non-null  float64\n",
      "dtypes: float64(2), int64(6), object(3)\n",
      "memory usage: 1.9+ MB\n"
     ]
    }
   ],
   "source": [
    "data.info() #Выведу информацию о каждом столбце  "
   ]
  },
  {
   "cell_type": "code",
   "execution_count": 4,
   "metadata": {},
   "outputs": [
    {
     "name": "stdout",
     "output_type": "stream",
     "text": [
      "В данных 22699 наблюдений и 11 признаков\n"
     ]
    }
   ],
   "source": [
    "print(f\"\"\"В данных {data.shape[0]} наблюдений и {data.shape[1]} признаков\"\"\")"
   ]
  },
  {
   "cell_type": "markdown",
   "metadata": {},
   "source": [
    "Удаление пропусков и повторяющихся значений"
   ]
  },
  {
   "cell_type": "code",
   "execution_count": 5,
   "metadata": {},
   "outputs": [
    {
     "data": {
      "text/plain": [
       "VendorID                 0\n",
       "tpep_pickup_datetime     0\n",
       "tpep_dropoff_datetime    0\n",
       "passenger_count          0\n",
       "trip_distance            0\n",
       "RatecodeID               0\n",
       "store_and_fwd_flag       0\n",
       "PULocationID             0\n",
       "DOLocationID             0\n",
       "payment_type             0\n",
       "total_amount             0\n",
       "dtype: int64"
      ]
     },
     "execution_count": 5,
     "metadata": {},
     "output_type": "execute_result"
    }
   ],
   "source": [
    "data.isna().sum()"
   ]
  },
  {
   "cell_type": "markdown",
   "metadata": {},
   "source": [
    "Пропусков нет"
   ]
  },
  {
   "cell_type": "code",
   "execution_count": 6,
   "metadata": {},
   "outputs": [
    {
     "data": {
      "text/plain": [
       "0"
      ]
     },
     "execution_count": 6,
     "metadata": {},
     "output_type": "execute_result"
    }
   ],
   "source": [
    "data.duplicated().sum()"
   ]
  },
  {
   "cell_type": "markdown",
   "metadata": {},
   "source": [
    "Дубликатов нет"
   ]
  },
  {
   "cell_type": "markdown",
   "metadata": {},
   "source": [
    "## Предварительная обработка"
   ]
  },
  {
   "cell_type": "markdown",
   "metadata": {},
   "source": [
    "Обработка дат"
   ]
  },
  {
   "cell_type": "code",
   "execution_count": 7,
   "metadata": {},
   "outputs": [],
   "source": [
    "#Приведу даты в формат datetime\n",
    "data.tpep_pickup_datetime = pd.to_datetime(data.tpep_pickup_datetime)\n",
    "data.tpep_dropoff_datetime = pd.to_datetime(data.tpep_dropoff_datetime)"
   ]
  },
  {
   "cell_type": "markdown",
   "metadata": {},
   "source": [
    "Создам новые переменные из дат"
   ]
  },
  {
   "cell_type": "code",
   "execution_count": 8,
   "metadata": {},
   "outputs": [],
   "source": [
    "#Время поездки в секундах\n",
    "data['trip_seconds'] = data.tpep_dropoff_datetime - data.tpep_pickup_datetime\n",
    "data['trip_seconds'] = data['trip_seconds'].dt.seconds\n",
    "\n",
    "#Час начала поездки\n",
    "data['pickup_hour'] = data.tpep_pickup_datetime.dt.hour\n",
    "\n",
    "#Месяц поездки\n",
    "data['month'] = data.tpep_pickup_datetime.dt.month_name()\n",
    "\n",
    "#День недели\n",
    "data['day_of_week'] = data.tpep_pickup_datetime.dt.day_name()\n",
    "\n",
    "#День месяца\n",
    "data['day_of_month'] = data.tpep_pickup_datetime.dt.day\n",
    "\n",
    "#Удалю ненужные переменные\n",
    "data = data.drop(['tpep_pickup_datetime', 'tpep_dropoff_datetime'], axis=1)"
   ]
  },
  {
   "cell_type": "code",
   "execution_count": 9,
   "metadata": {},
   "outputs": [
    {
     "data": {
      "text/html": [
       "<div>\n",
       "<style scoped>\n",
       "    .dataframe tbody tr th:only-of-type {\n",
       "        vertical-align: middle;\n",
       "    }\n",
       "\n",
       "    .dataframe tbody tr th {\n",
       "        vertical-align: top;\n",
       "    }\n",
       "\n",
       "    .dataframe thead th {\n",
       "        text-align: right;\n",
       "    }\n",
       "</style>\n",
       "<table border=\"1\" class=\"dataframe\">\n",
       "  <thead>\n",
       "    <tr style=\"text-align: right;\">\n",
       "      <th></th>\n",
       "      <th>VendorID</th>\n",
       "      <th>passenger_count</th>\n",
       "      <th>trip_distance</th>\n",
       "      <th>RatecodeID</th>\n",
       "      <th>store_and_fwd_flag</th>\n",
       "      <th>PULocationID</th>\n",
       "      <th>DOLocationID</th>\n",
       "      <th>payment_type</th>\n",
       "      <th>total_amount</th>\n",
       "      <th>trip_seconds</th>\n",
       "      <th>pickup_hour</th>\n",
       "      <th>month</th>\n",
       "      <th>day_of_week</th>\n",
       "      <th>day_of_month</th>\n",
       "    </tr>\n",
       "  </thead>\n",
       "  <tbody>\n",
       "    <tr>\n",
       "      <th>0</th>\n",
       "      <td>2</td>\n",
       "      <td>6</td>\n",
       "      <td>3.34</td>\n",
       "      <td>1</td>\n",
       "      <td>N</td>\n",
       "      <td>100</td>\n",
       "      <td>231</td>\n",
       "      <td>1</td>\n",
       "      <td>16.56</td>\n",
       "      <td>844</td>\n",
       "      <td>8</td>\n",
       "      <td>March</td>\n",
       "      <td>Saturday</td>\n",
       "      <td>25</td>\n",
       "    </tr>\n",
       "    <tr>\n",
       "      <th>1</th>\n",
       "      <td>1</td>\n",
       "      <td>1</td>\n",
       "      <td>1.80</td>\n",
       "      <td>1</td>\n",
       "      <td>N</td>\n",
       "      <td>186</td>\n",
       "      <td>43</td>\n",
       "      <td>1</td>\n",
       "      <td>20.80</td>\n",
       "      <td>1590</td>\n",
       "      <td>14</td>\n",
       "      <td>April</td>\n",
       "      <td>Tuesday</td>\n",
       "      <td>11</td>\n",
       "    </tr>\n",
       "    <tr>\n",
       "      <th>2</th>\n",
       "      <td>1</td>\n",
       "      <td>1</td>\n",
       "      <td>1.00</td>\n",
       "      <td>1</td>\n",
       "      <td>N</td>\n",
       "      <td>262</td>\n",
       "      <td>236</td>\n",
       "      <td>1</td>\n",
       "      <td>8.75</td>\n",
       "      <td>432</td>\n",
       "      <td>7</td>\n",
       "      <td>December</td>\n",
       "      <td>Friday</td>\n",
       "      <td>15</td>\n",
       "    </tr>\n",
       "    <tr>\n",
       "      <th>3</th>\n",
       "      <td>2</td>\n",
       "      <td>1</td>\n",
       "      <td>3.70</td>\n",
       "      <td>1</td>\n",
       "      <td>N</td>\n",
       "      <td>188</td>\n",
       "      <td>97</td>\n",
       "      <td>1</td>\n",
       "      <td>27.69</td>\n",
       "      <td>1815</td>\n",
       "      <td>13</td>\n",
       "      <td>May</td>\n",
       "      <td>Sunday</td>\n",
       "      <td>7</td>\n",
       "    </tr>\n",
       "    <tr>\n",
       "      <th>4</th>\n",
       "      <td>2</td>\n",
       "      <td>1</td>\n",
       "      <td>4.37</td>\n",
       "      <td>1</td>\n",
       "      <td>N</td>\n",
       "      <td>4</td>\n",
       "      <td>112</td>\n",
       "      <td>2</td>\n",
       "      <td>17.80</td>\n",
       "      <td>1003</td>\n",
       "      <td>23</td>\n",
       "      <td>April</td>\n",
       "      <td>Saturday</td>\n",
       "      <td>15</td>\n",
       "    </tr>\n",
       "  </tbody>\n",
       "</table>\n",
       "</div>"
      ],
      "text/plain": [
       "   VendorID  passenger_count  trip_distance  RatecodeID store_and_fwd_flag  \\\n",
       "0         2                6           3.34           1                  N   \n",
       "1         1                1           1.80           1                  N   \n",
       "2         1                1           1.00           1                  N   \n",
       "3         2                1           3.70           1                  N   \n",
       "4         2                1           4.37           1                  N   \n",
       "\n",
       "   PULocationID  DOLocationID  payment_type  total_amount  trip_seconds  \\\n",
       "0           100           231             1         16.56           844   \n",
       "1           186            43             1         20.80          1590   \n",
       "2           262           236             1          8.75           432   \n",
       "3           188            97             1         27.69          1815   \n",
       "4             4           112             2         17.80          1003   \n",
       "\n",
       "   pickup_hour     month day_of_week  day_of_month  \n",
       "0            8     March    Saturday            25  \n",
       "1           14     April     Tuesday            11  \n",
       "2            7  December      Friday            15  \n",
       "3           13       May      Sunday             7  \n",
       "4           23     April    Saturday            15  "
      ]
     },
     "execution_count": 9,
     "metadata": {},
     "output_type": "execute_result"
    }
   ],
   "source": [
    "data.head()"
   ]
  },
  {
   "cell_type": "markdown",
   "metadata": {},
   "source": [
    "# Описательные статистики"
   ]
  },
  {
   "cell_type": "code",
   "execution_count": 10,
   "metadata": {},
   "outputs": [],
   "source": [
    "num_var = ['passenger_count', 'trip_distance', 'total_amount', 'trip_seconds']"
   ]
  },
  {
   "cell_type": "code",
   "execution_count": 11,
   "metadata": {},
   "outputs": [
    {
     "data": {
      "text/html": [
       "<div>\n",
       "<style scoped>\n",
       "    .dataframe tbody tr th:only-of-type {\n",
       "        vertical-align: middle;\n",
       "    }\n",
       "\n",
       "    .dataframe tbody tr th {\n",
       "        vertical-align: top;\n",
       "    }\n",
       "\n",
       "    .dataframe thead th {\n",
       "        text-align: right;\n",
       "    }\n",
       "</style>\n",
       "<table border=\"1\" class=\"dataframe\">\n",
       "  <thead>\n",
       "    <tr style=\"text-align: right;\">\n",
       "      <th></th>\n",
       "      <th>passenger_count</th>\n",
       "      <th>trip_distance</th>\n",
       "      <th>total_amount</th>\n",
       "      <th>trip_seconds</th>\n",
       "    </tr>\n",
       "  </thead>\n",
       "  <tbody>\n",
       "    <tr>\n",
       "      <th>count</th>\n",
       "      <td>22699.000000</td>\n",
       "      <td>22699.000000</td>\n",
       "      <td>22699.000000</td>\n",
       "      <td>22699.000000</td>\n",
       "    </tr>\n",
       "    <tr>\n",
       "      <th>mean</th>\n",
       "      <td>1.642319</td>\n",
       "      <td>2.913313</td>\n",
       "      <td>16.310502</td>\n",
       "      <td>1024.632935</td>\n",
       "    </tr>\n",
       "    <tr>\n",
       "      <th>std</th>\n",
       "      <td>1.285231</td>\n",
       "      <td>3.653171</td>\n",
       "      <td>16.097295</td>\n",
       "      <td>3761.670875</td>\n",
       "    </tr>\n",
       "    <tr>\n",
       "      <th>min</th>\n",
       "      <td>0.000000</td>\n",
       "      <td>0.000000</td>\n",
       "      <td>-120.300000</td>\n",
       "      <td>0.000000</td>\n",
       "    </tr>\n",
       "    <tr>\n",
       "      <th>25%</th>\n",
       "      <td>1.000000</td>\n",
       "      <td>0.990000</td>\n",
       "      <td>8.750000</td>\n",
       "      <td>399.000000</td>\n",
       "    </tr>\n",
       "    <tr>\n",
       "      <th>50%</th>\n",
       "      <td>1.000000</td>\n",
       "      <td>1.610000</td>\n",
       "      <td>11.800000</td>\n",
       "      <td>671.000000</td>\n",
       "    </tr>\n",
       "    <tr>\n",
       "      <th>75%</th>\n",
       "      <td>2.000000</td>\n",
       "      <td>3.060000</td>\n",
       "      <td>17.800000</td>\n",
       "      <td>1103.000000</td>\n",
       "    </tr>\n",
       "    <tr>\n",
       "      <th>max</th>\n",
       "      <td>6.000000</td>\n",
       "      <td>33.960000</td>\n",
       "      <td>1200.290000</td>\n",
       "      <td>86373.000000</td>\n",
       "    </tr>\n",
       "  </tbody>\n",
       "</table>\n",
       "</div>"
      ],
      "text/plain": [
       "       passenger_count  trip_distance  total_amount  trip_seconds\n",
       "count     22699.000000   22699.000000  22699.000000  22699.000000\n",
       "mean          1.642319       2.913313     16.310502   1024.632935\n",
       "std           1.285231       3.653171     16.097295   3761.670875\n",
       "min           0.000000       0.000000   -120.300000      0.000000\n",
       "25%           1.000000       0.990000      8.750000    399.000000\n",
       "50%           1.000000       1.610000     11.800000    671.000000\n",
       "75%           2.000000       3.060000     17.800000   1103.000000\n",
       "max           6.000000      33.960000   1200.290000  86373.000000"
      ]
     },
     "execution_count": 11,
     "metadata": {},
     "output_type": "execute_result"
    }
   ],
   "source": [
    "data[num_var].describe()"
   ]
  },
  {
   "cell_type": "markdown",
   "metadata": {},
   "source": [
    "Мы видим аномальные отрицательные значения в стоимости такси. Скорее всего это ошибка в данных. Поэтому наблюдения можно удалить"
   ]
  },
  {
   "cell_type": "code",
   "execution_count": 12,
   "metadata": {},
   "outputs": [],
   "source": [
    "data = data[data['total_amount'] > 0]"
   ]
  },
  {
   "cell_type": "markdown",
   "metadata": {},
   "source": [
    "Monthly Revenue (Месячный доход)"
   ]
  },
  {
   "cell_type": "code",
   "execution_count": 13,
   "metadata": {},
   "outputs": [],
   "source": [
    "# Делаю переменную порядковой в pandas, чтобы визуализировать\n",
    "ordered_months = ['January', 'February', 'March', 'April', 'May', 'June', 'July', 'August', 'September', 'October', 'November', 'December']\n",
    "data['month'] = pd.Categorical(data['month'], categories=ordered_months, ordered=True)"
   ]
  },
  {
   "cell_type": "code",
   "execution_count": 14,
   "metadata": {},
   "outputs": [
    {
     "data": {
      "text/plain": [
       "<Axes: xlabel='month', ylabel='total_amount'>"
      ]
     },
     "execution_count": 14,
     "metadata": {},
     "output_type": "execute_result"
    },
    {
     "data": {
      "image/png": "[encoded data removed]",
      "text/plain": [
       "<Figure size 1200x700 with 1 Axes>"
      ]
     },
     "metadata": {},
     "output_type": "display_data"
    }
   ],
   "source": [
    "plt.figure(figsize=(12, 7))\n",
    "sns.barplot(\n",
    "    data=data, \n",
    "    x='month', \n",
    "    y='total_amount', \n",
    "    estimator='sum', \n",
    "    errorbar=None,\n",
    "    palette='Set2'\n",
    ")"
   ]
  },
  {
   "cell_type": "markdown",
   "metadata": {},
   "source": [
    "Наблюдаем самый низкий доход в июле, а самый высокий - в мае"
   ]
  },
  {
   "cell_type": "markdown",
   "metadata": {},
   "source": [
    "Daily revenue (Дневная выручка)"
   ]
  },
  {
   "cell_type": "code",
   "execution_count": 15,
   "metadata": {},
   "outputs": [
    {
     "data": {
      "text/plain": [
       "<Axes: xlabel='day_of_month', ylabel='total_amount'>"
      ]
     },
     "execution_count": 15,
     "metadata": {},
     "output_type": "execute_result"
    },
    {
     "data": {
      "image/png": "[encoded data removed]",
      "text/plain": [
       "<Figure size 1200x700 with 1 Axes>"
      ]
     },
     "metadata": {},
     "output_type": "display_data"
    }
   ],
   "source": [
    "plt.figure(figsize=(12, 7))\n",
    "sns.barplot(\n",
    "    data=data, \n",
    "    x='day_of_month', \n",
    "    y='total_amount', \n",
    "    estimator='mean',\n",
    "    errorbar=None,\n",
    "    palette='Set2'\n",
    ")"
   ]
  },
  {
   "cell_type": "markdown",
   "metadata": {},
   "source": [
    "Видно, что самую большую выручку с такси компании получили 3го, 17го и 19го числа"
   ]
  },
  {
   "cell_type": "markdown",
   "metadata": {},
   "source": [
    "Почасовая стоимость такси"
   ]
  },
  {
   "cell_type": "code",
   "execution_count": 16,
   "metadata": {},
   "outputs": [
    {
     "data": {
      "text/plain": [
       "Text(0.5, 1.0, 'Сумма дохода')"
      ]
     },
     "execution_count": 16,
     "metadata": {},
     "output_type": "execute_result"
    },
    {
     "data": {
      "image/png": "[encoded data removed]",
      "text/plain": [
       "<Figure size 1500x1100 with 2 Axes>"
      ]
     },
     "metadata": {},
     "output_type": "display_data"
    }
   ],
   "source": [
    "fig, ax = plt.subplots(2, figsize=(15, 11))\n",
    "\n",
    "sns.lineplot(data=data, \n",
    "             x='pickup_hour', \n",
    "             y='total_amount', \n",
    "             estimator='mean', \n",
    "             ax=ax[0])\n",
    "ax[0].set_title('Среднечасовая стоимость')\n",
    "\n",
    "sns.lineplot(data=data, \n",
    "             x='pickup_hour', \n",
    "             y='total_amount', \n",
    "             estimator='sum', \n",
    "             ax=ax[1])\n",
    "ax[1].set_title('Сумма дохода')"
   ]
  },
  {
   "cell_type": "markdown",
   "metadata": {},
   "source": [
    "Видно, что самый сильный подъём в средней стоимости такси появляется в районе 5ти утра. Тогда же компании зарабатывают меньше всего, так как и заказов меньше всего. \n",
    "\n",
    "В дневное же время, самая большая средняя цена в районе 17:00 - 18:00. Тогда же и компании получают большую выгоду за день"
   ]
  },
  {
   "cell_type": "markdown",
   "metadata": {},
   "source": [
    "Средняя стоимость поездки по дням недели:"
   ]
  },
  {
   "cell_type": "code",
   "execution_count": 17,
   "metadata": {},
   "outputs": [
    {
     "data": {
      "text/plain": [
       "<Axes: xlabel='day_of_week', ylabel='total_amount'>"
      ]
     },
     "execution_count": 17,
     "metadata": {},
     "output_type": "execute_result"
    },
    {
     "data": {
      "image/png": "[encoded data removed]",
      "text/plain": [
       "<Figure size 1200x700 with 1 Axes>"
      ]
     },
     "metadata": {},
     "output_type": "display_data"
    }
   ],
   "source": [
    "plt.figure(figsize=(12, 7))\n",
    "sns.barplot(\n",
    "    data=data, \n",
    "    x='day_of_week', \n",
    "    y='total_amount',\n",
    "    palette='Set2'\n",
    ")"
   ]
  },
  {
   "cell_type": "markdown",
   "metadata": {},
   "source": [
    "Мы видим, что в субботу средняя стоимость такси значительно ниже, чем в другие дни. В остальные же дни, средняя цена поездки сильно не отличается друг от друга"
   ]
  },
  {
   "cell_type": "markdown",
   "metadata": {},
   "source": [
    "# Обработка"
   ]
  },
  {
   "cell_type": "code",
   "execution_count": 18,
   "metadata": {},
   "outputs": [
    {
     "data": {
      "text/plain": [
       "1     22053\n",
       "2       513\n",
       "5        67\n",
       "3        39\n",
       "4         8\n",
       "99        1\n",
       "Name: RatecodeID, dtype: int64"
      ]
     },
     "execution_count": 18,
     "metadata": {},
     "output_type": "execute_result"
    }
   ],
   "source": [
    "data.RatecodeID.value_counts()"
   ]
  },
  {
   "cell_type": "code",
   "execution_count": 19,
   "metadata": {},
   "outputs": [
    {
     "data": {
      "text/plain": [
       "N    22582\n",
       "Y       99\n",
       "Name: store_and_fwd_flag, dtype: int64"
      ]
     },
     "execution_count": 19,
     "metadata": {},
     "output_type": "execute_result"
    }
   ],
   "source": [
    "data.store_and_fwd_flag.value_counts()"
   ]
  },
  {
   "cell_type": "markdown",
   "metadata": {},
   "source": [
    "Кодирую категориальные признаки"
   ]
  },
  {
   "cell_type": "code",
   "execution_count": 20,
   "metadata": {},
   "outputs": [],
   "source": [
    "from sklearn.preprocessing import LabelEncoder\n",
    "\n",
    "for i in ['store_and_fwd_flag', 'month', 'day_of_week']:\n",
    "    data[i] = LabelEncoder().fit_transform(data[i])"
   ]
  },
  {
   "cell_type": "markdown",
   "metadata": {},
   "source": [
    "Выделю целевой признак"
   ]
  },
  {
   "cell_type": "code",
   "execution_count": 21,
   "metadata": {},
   "outputs": [],
   "source": [
    "y = data['total_amount']\n",
    "X = data.drop('total_amount', axis=1)"
   ]
  },
  {
   "cell_type": "markdown",
   "metadata": {},
   "source": [
    "Стандартизирую данные"
   ]
  },
  {
   "cell_type": "code",
   "execution_count": 22,
   "metadata": {},
   "outputs": [],
   "source": [
    "X = stats.zscore(X)"
   ]
  },
  {
   "cell_type": "code",
   "execution_count": 23,
   "metadata": {},
   "outputs": [
    {
     "data": {
      "text/html": [
       "<div>\n",
       "<style scoped>\n",
       "    .dataframe tbody tr th:only-of-type {\n",
       "        vertical-align: middle;\n",
       "    }\n",
       "\n",
       "    .dataframe tbody tr th {\n",
       "        vertical-align: top;\n",
       "    }\n",
       "\n",
       "    .dataframe thead th {\n",
       "        text-align: right;\n",
       "    }\n",
       "</style>\n",
       "<table border=\"1\" class=\"dataframe\">\n",
       "  <thead>\n",
       "    <tr style=\"text-align: right;\">\n",
       "      <th></th>\n",
       "      <th>VendorID</th>\n",
       "      <th>passenger_count</th>\n",
       "      <th>trip_distance</th>\n",
       "      <th>RatecodeID</th>\n",
       "      <th>store_and_fwd_flag</th>\n",
       "      <th>PULocationID</th>\n",
       "      <th>DOLocationID</th>\n",
       "      <th>payment_type</th>\n",
       "      <th>trip_seconds</th>\n",
       "      <th>pickup_hour</th>\n",
       "      <th>month</th>\n",
       "      <th>day_of_week</th>\n",
       "      <th>day_of_month</th>\n",
       "    </tr>\n",
       "  </thead>\n",
       "  <tbody>\n",
       "    <tr>\n",
       "      <th>0</th>\n",
       "      <td>0.893833</td>\n",
       "      <td>3.390934</td>\n",
       "      <td>0.116279</td>\n",
       "      <td>-0.061076</td>\n",
       "      <td>-0.066212</td>\n",
       "      <td>-0.936664</td>\n",
       "      <td>0.990309</td>\n",
       "      <td>-0.680269</td>\n",
       "      <td>-0.047701</td>\n",
       "      <td>-0.920413</td>\n",
       "      <td>0.429008</td>\n",
       "      <td>-0.506263</td>\n",
       "      <td>1.078430</td>\n",
       "    </tr>\n",
       "    <tr>\n",
       "      <th>1</th>\n",
       "      <td>-1.118777</td>\n",
       "      <td>-0.499843</td>\n",
       "      <td>-0.305214</td>\n",
       "      <td>-0.061076</td>\n",
       "      <td>-0.066212</td>\n",
       "      <td>0.354171</td>\n",
       "      <td>-1.690057</td>\n",
       "      <td>-0.680269</td>\n",
       "      <td>0.152692</td>\n",
       "      <td>0.043750</td>\n",
       "      <td>-1.606077</td>\n",
       "      <td>0.979830</td>\n",
       "      <td>-0.527414</td>\n",
       "    </tr>\n",
       "    <tr>\n",
       "      <th>2</th>\n",
       "      <td>-1.118777</td>\n",
       "      <td>-0.499843</td>\n",
       "      <td>-0.524171</td>\n",
       "      <td>-0.061076</td>\n",
       "      <td>-0.066212</td>\n",
       "      <td>1.494909</td>\n",
       "      <td>1.061595</td>\n",
       "      <td>-0.680269</td>\n",
       "      <td>-0.158374</td>\n",
       "      <td>-1.081106</td>\n",
       "      <td>-1.024624</td>\n",
       "      <td>-1.496991</td>\n",
       "      <td>-0.068601</td>\n",
       "    </tr>\n",
       "    <tr>\n",
       "      <th>3</th>\n",
       "      <td>0.893833</td>\n",
       "      <td>-0.499843</td>\n",
       "      <td>0.214809</td>\n",
       "      <td>-0.061076</td>\n",
       "      <td>-0.066212</td>\n",
       "      <td>0.384191</td>\n",
       "      <td>-0.920165</td>\n",
       "      <td>-0.680269</td>\n",
       "      <td>0.213132</td>\n",
       "      <td>-0.116944</td>\n",
       "      <td>0.719734</td>\n",
       "      <td>-0.010898</td>\n",
       "      <td>-0.986227</td>\n",
       "    </tr>\n",
       "    <tr>\n",
       "      <th>4</th>\n",
       "      <td>0.893833</td>\n",
       "      <td>-0.499843</td>\n",
       "      <td>0.398186</td>\n",
       "      <td>-0.061076</td>\n",
       "      <td>-0.066212</td>\n",
       "      <td>-2.377596</td>\n",
       "      <td>-0.706306</td>\n",
       "      <td>1.346952</td>\n",
       "      <td>-0.004990</td>\n",
       "      <td>1.489993</td>\n",
       "      <td>-1.606077</td>\n",
       "      <td>-0.506263</td>\n",
       "      <td>-0.068601</td>\n",
       "    </tr>\n",
       "  </tbody>\n",
       "</table>\n",
       "</div>"
      ],
      "text/plain": [
       "   VendorID  passenger_count  trip_distance  RatecodeID  store_and_fwd_flag  \\\n",
       "0  0.893833         3.390934       0.116279   -0.061076           -0.066212   \n",
       "1 -1.118777        -0.499843      -0.305214   -0.061076           -0.066212   \n",
       "2 -1.118777        -0.499843      -0.524171   -0.061076           -0.066212   \n",
       "3  0.893833        -0.499843       0.214809   -0.061076           -0.066212   \n",
       "4  0.893833        -0.499843       0.398186   -0.061076           -0.066212   \n",
       "\n",
       "   PULocationID  DOLocationID  payment_type  trip_seconds  pickup_hour  \\\n",
       "0     -0.936664      0.990309     -0.680269     -0.047701    -0.920413   \n",
       "1      0.354171     -1.690057     -0.680269      0.152692     0.043750   \n",
       "2      1.494909      1.061595     -0.680269     -0.158374    -1.081106   \n",
       "3      0.384191     -0.920165     -0.680269      0.213132    -0.116944   \n",
       "4     -2.377596     -0.706306      1.346952     -0.004990     1.489993   \n",
       "\n",
       "      month  day_of_week  day_of_month  \n",
       "0  0.429008    -0.506263      1.078430  \n",
       "1 -1.606077     0.979830     -0.527414  \n",
       "2 -1.024624    -1.496991     -0.068601  \n",
       "3  0.719734    -0.010898     -0.986227  \n",
       "4 -1.606077    -0.506263     -0.068601  "
      ]
     },
     "execution_count": 23,
     "metadata": {},
     "output_type": "execute_result"
    }
   ],
   "source": [
    "X.head()"
   ]
  },
  {
   "cell_type": "markdown",
   "metadata": {},
   "source": [
    "Удалю выбросы методом 3 IQR"
   ]
  },
  {
   "cell_type": "code",
   "execution_count": 24,
   "metadata": {},
   "outputs": [],
   "source": [
    "for column in X.columns:\n",
    "    Q1 = X[column].quantile(0.25)\n",
    "    Q3 = X[column].quantile(0.75)\n",
    "    IQR = Q3 - Q1\n",
    "    lower_bound = Q1 - 1.5 * IQR # Интерквартильный размах\n",
    "    upper_bound = Q3 + 1.5 * IQR\n",
    "    filter = (X[column] >= lower_bound) & (X[column] <= upper_bound)\n",
    "    X = X.loc[filter]\n",
    "\n",
    "y = y[X.index]"
   ]
  },
  {
   "cell_type": "markdown",
   "metadata": {},
   "source": [
    "# Корреляционный анализ"
   ]
  },
  {
   "cell_type": "markdown",
   "metadata": {},
   "source": [
    "Проанализирую корреляции для регрессоров. \n",
    "\n",
    "Если корреляция двух регрессоров будет близка к 1, удалю один из них, чтобы избавиться от мультиколлинеарности. \n",
    "\n",
    "Буду считать, что близкая к единице корреляция - это корреляция > 0.8"
   ]
  },
  {
   "cell_type": "code",
   "execution_count": 25,
   "metadata": {},
   "outputs": [
    {
     "data": {
      "text/html": [
       "<div>\n",
       "<style scoped>\n",
       "    .dataframe tbody tr th:only-of-type {\n",
       "        vertical-align: middle;\n",
       "    }\n",
       "\n",
       "    .dataframe tbody tr th {\n",
       "        vertical-align: top;\n",
       "    }\n",
       "\n",
       "    .dataframe thead th {\n",
       "        text-align: right;\n",
       "    }\n",
       "</style>\n",
       "<table border=\"1\" class=\"dataframe\">\n",
       "  <thead>\n",
       "    <tr style=\"text-align: right;\">\n",
       "      <th></th>\n",
       "      <th>VendorID</th>\n",
       "      <th>passenger_count</th>\n",
       "      <th>trip_distance</th>\n",
       "      <th>RatecodeID</th>\n",
       "      <th>store_and_fwd_flag</th>\n",
       "      <th>PULocationID</th>\n",
       "      <th>DOLocationID</th>\n",
       "      <th>payment_type</th>\n",
       "      <th>trip_seconds</th>\n",
       "      <th>pickup_hour</th>\n",
       "      <th>month</th>\n",
       "      <th>day_of_week</th>\n",
       "      <th>day_of_month</th>\n",
       "    </tr>\n",
       "  </thead>\n",
       "  <tbody>\n",
       "    <tr>\n",
       "      <th>VendorID</th>\n",
       "      <td>1.000000</td>\n",
       "      <td>0.098506</td>\n",
       "      <td>0.019447</td>\n",
       "      <td>NaN</td>\n",
       "      <td>NaN</td>\n",
       "      <td>-0.023785</td>\n",
       "      <td>-0.029787</td>\n",
       "      <td>-0.003524</td>\n",
       "      <td>-0.007872</td>\n",
       "      <td>0.001662</td>\n",
       "      <td>-0.005169</td>\n",
       "      <td>-0.000166</td>\n",
       "      <td>0.002404</td>\n",
       "    </tr>\n",
       "    <tr>\n",
       "      <th>passenger_count</th>\n",
       "      <td>0.098506</td>\n",
       "      <td>1.000000</td>\n",
       "      <td>0.029330</td>\n",
       "      <td>NaN</td>\n",
       "      <td>NaN</td>\n",
       "      <td>-0.021488</td>\n",
       "      <td>-0.001343</td>\n",
       "      <td>0.024995</td>\n",
       "      <td>0.027258</td>\n",
       "      <td>0.033037</td>\n",
       "      <td>-0.006615</td>\n",
       "      <td>-0.027214</td>\n",
       "      <td>-0.007069</td>\n",
       "    </tr>\n",
       "    <tr>\n",
       "      <th>trip_distance</th>\n",
       "      <td>0.019447</td>\n",
       "      <td>0.029330</td>\n",
       "      <td>1.000000</td>\n",
       "      <td>NaN</td>\n",
       "      <td>NaN</td>\n",
       "      <td>-0.051563</td>\n",
       "      <td>-0.091615</td>\n",
       "      <td>-0.077188</td>\n",
       "      <td>0.706767</td>\n",
       "      <td>-0.013792</td>\n",
       "      <td>-0.011591</td>\n",
       "      <td>-0.017978</td>\n",
       "      <td>-0.014872</td>\n",
       "    </tr>\n",
       "    <tr>\n",
       "      <th>RatecodeID</th>\n",
       "      <td>NaN</td>\n",
       "      <td>NaN</td>\n",
       "      <td>NaN</td>\n",
       "      <td>NaN</td>\n",
       "      <td>NaN</td>\n",
       "      <td>NaN</td>\n",
       "      <td>NaN</td>\n",
       "      <td>NaN</td>\n",
       "      <td>NaN</td>\n",
       "      <td>NaN</td>\n",
       "      <td>NaN</td>\n",
       "      <td>NaN</td>\n",
       "      <td>NaN</td>\n",
       "    </tr>\n",
       "    <tr>\n",
       "      <th>store_and_fwd_flag</th>\n",
       "      <td>NaN</td>\n",
       "      <td>NaN</td>\n",
       "      <td>NaN</td>\n",
       "      <td>NaN</td>\n",
       "      <td>NaN</td>\n",
       "      <td>NaN</td>\n",
       "      <td>NaN</td>\n",
       "      <td>NaN</td>\n",
       "      <td>NaN</td>\n",
       "      <td>NaN</td>\n",
       "      <td>NaN</td>\n",
       "      <td>NaN</td>\n",
       "      <td>NaN</td>\n",
       "    </tr>\n",
       "    <tr>\n",
       "      <th>PULocationID</th>\n",
       "      <td>-0.023785</td>\n",
       "      <td>-0.021488</td>\n",
       "      <td>-0.051563</td>\n",
       "      <td>NaN</td>\n",
       "      <td>NaN</td>\n",
       "      <td>1.000000</td>\n",
       "      <td>0.102184</td>\n",
       "      <td>-0.004636</td>\n",
       "      <td>-0.028299</td>\n",
       "      <td>0.036564</td>\n",
       "      <td>0.002639</td>\n",
       "      <td>0.021284</td>\n",
       "      <td>0.017682</td>\n",
       "    </tr>\n",
       "    <tr>\n",
       "      <th>DOLocationID</th>\n",
       "      <td>-0.029787</td>\n",
       "      <td>-0.001343</td>\n",
       "      <td>-0.091615</td>\n",
       "      <td>NaN</td>\n",
       "      <td>NaN</td>\n",
       "      <td>0.102184</td>\n",
       "      <td>1.000000</td>\n",
       "      <td>-0.003995</td>\n",
       "      <td>-0.044641</td>\n",
       "      <td>0.014205</td>\n",
       "      <td>-0.006390</td>\n",
       "      <td>0.027131</td>\n",
       "      <td>0.003291</td>\n",
       "    </tr>\n",
       "    <tr>\n",
       "      <th>payment_type</th>\n",
       "      <td>-0.003524</td>\n",
       "      <td>0.024995</td>\n",
       "      <td>-0.077188</td>\n",
       "      <td>NaN</td>\n",
       "      <td>NaN</td>\n",
       "      <td>-0.004636</td>\n",
       "      <td>-0.003995</td>\n",
       "      <td>1.000000</td>\n",
       "      <td>-0.067107</td>\n",
       "      <td>-0.021670</td>\n",
       "      <td>-0.017997</td>\n",
       "      <td>-0.023185</td>\n",
       "      <td>0.010337</td>\n",
       "    </tr>\n",
       "    <tr>\n",
       "      <th>trip_seconds</th>\n",
       "      <td>-0.007872</td>\n",
       "      <td>0.027258</td>\n",
       "      <td>0.706767</td>\n",
       "      <td>NaN</td>\n",
       "      <td>NaN</td>\n",
       "      <td>-0.028299</td>\n",
       "      <td>-0.044641</td>\n",
       "      <td>-0.067107</td>\n",
       "      <td>1.000000</td>\n",
       "      <td>0.068415</td>\n",
       "      <td>0.013245</td>\n",
       "      <td>0.023226</td>\n",
       "      <td>-0.006763</td>\n",
       "    </tr>\n",
       "    <tr>\n",
       "      <th>pickup_hour</th>\n",
       "      <td>0.001662</td>\n",
       "      <td>0.033037</td>\n",
       "      <td>-0.013792</td>\n",
       "      <td>NaN</td>\n",
       "      <td>NaN</td>\n",
       "      <td>0.036564</td>\n",
       "      <td>0.014205</td>\n",
       "      <td>-0.021670</td>\n",
       "      <td>0.068415</td>\n",
       "      <td>1.000000</td>\n",
       "      <td>0.005459</td>\n",
       "      <td>0.025668</td>\n",
       "      <td>0.010738</td>\n",
       "    </tr>\n",
       "    <tr>\n",
       "      <th>month</th>\n",
       "      <td>-0.005169</td>\n",
       "      <td>-0.006615</td>\n",
       "      <td>-0.011591</td>\n",
       "      <td>NaN</td>\n",
       "      <td>NaN</td>\n",
       "      <td>0.002639</td>\n",
       "      <td>-0.006390</td>\n",
       "      <td>-0.017997</td>\n",
       "      <td>0.013245</td>\n",
       "      <td>0.005459</td>\n",
       "      <td>1.000000</td>\n",
       "      <td>-0.000501</td>\n",
       "      <td>0.021693</td>\n",
       "    </tr>\n",
       "    <tr>\n",
       "      <th>day_of_week</th>\n",
       "      <td>-0.000166</td>\n",
       "      <td>-0.027214</td>\n",
       "      <td>-0.017978</td>\n",
       "      <td>NaN</td>\n",
       "      <td>NaN</td>\n",
       "      <td>0.021284</td>\n",
       "      <td>0.027131</td>\n",
       "      <td>-0.023185</td>\n",
       "      <td>0.023226</td>\n",
       "      <td>0.025668</td>\n",
       "      <td>-0.000501</td>\n",
       "      <td>1.000000</td>\n",
       "      <td>0.003631</td>\n",
       "    </tr>\n",
       "    <tr>\n",
       "      <th>day_of_month</th>\n",
       "      <td>0.002404</td>\n",
       "      <td>-0.007069</td>\n",
       "      <td>-0.014872</td>\n",
       "      <td>NaN</td>\n",
       "      <td>NaN</td>\n",
       "      <td>0.017682</td>\n",
       "      <td>0.003291</td>\n",
       "      <td>0.010337</td>\n",
       "      <td>-0.006763</td>\n",
       "      <td>0.010738</td>\n",
       "      <td>0.021693</td>\n",
       "      <td>0.003631</td>\n",
       "      <td>1.000000</td>\n",
       "    </tr>\n",
       "  </tbody>\n",
       "</table>\n",
       "</div>"
      ],
      "text/plain": [
       "                    VendorID  passenger_count  trip_distance  RatecodeID  \\\n",
       "VendorID            1.000000         0.098506       0.019447         NaN   \n",
       "passenger_count     0.098506         1.000000       0.029330         NaN   \n",
       "trip_distance       0.019447         0.029330       1.000000         NaN   \n",
       "RatecodeID               NaN              NaN            NaN         NaN   \n",
       "store_and_fwd_flag       NaN              NaN            NaN         NaN   \n",
       "PULocationID       -0.023785        -0.021488      -0.051563         NaN   \n",
       "DOLocationID       -0.029787        -0.001343      -0.091615         NaN   \n",
       "payment_type       -0.003524         0.024995      -0.077188         NaN   \n",
       "trip_seconds       -0.007872         0.027258       0.706767         NaN   \n",
       "pickup_hour         0.001662         0.033037      -0.013792         NaN   \n",
       "month              -0.005169        -0.006615      -0.011591         NaN   \n",
       "day_of_week        -0.000166        -0.027214      -0.017978         NaN   \n",
       "day_of_month        0.002404        -0.007069      -0.014872         NaN   \n",
       "\n",
       "                    store_and_fwd_flag  PULocationID  DOLocationID  \\\n",
       "VendorID                           NaN     -0.023785     -0.029787   \n",
       "passenger_count                    NaN     -0.021488     -0.001343   \n",
       "trip_distance                      NaN     -0.051563     -0.091615   \n",
       "RatecodeID                         NaN           NaN           NaN   \n",
       "store_and_fwd_flag                 NaN           NaN           NaN   \n",
       "PULocationID                       NaN      1.000000      0.102184   \n",
       "DOLocationID                       NaN      0.102184      1.000000   \n",
       "payment_type                       NaN     -0.004636     -0.003995   \n",
       "trip_seconds                       NaN     -0.028299     -0.044641   \n",
       "pickup_hour                        NaN      0.036564      0.014205   \n",
       "month                              NaN      0.002639     -0.006390   \n",
       "day_of_week                        NaN      0.021284      0.027131   \n",
       "day_of_month                       NaN      0.017682      0.003291   \n",
       "\n",
       "                    payment_type  trip_seconds  pickup_hour     month  \\\n",
       "VendorID               -0.003524     -0.007872     0.001662 -0.005169   \n",
       "passenger_count         0.024995      0.027258     0.033037 -0.006615   \n",
       "trip_distance          -0.077188      0.706767    -0.013792 -0.011591   \n",
       "RatecodeID                   NaN           NaN          NaN       NaN   \n",
       "store_and_fwd_flag           NaN           NaN          NaN       NaN   \n",
       "PULocationID           -0.004636     -0.028299     0.036564  0.002639   \n",
       "DOLocationID           -0.003995     -0.044641     0.014205 -0.006390   \n",
       "payment_type            1.000000     -0.067107    -0.021670 -0.017997   \n",
       "trip_seconds           -0.067107      1.000000     0.068415  0.013245   \n",
       "pickup_hour            -0.021670      0.068415     1.000000  0.005459   \n",
       "month                  -0.017997      0.013245     0.005459  1.000000   \n",
       "day_of_week            -0.023185      0.023226     0.025668 -0.000501   \n",
       "day_of_month            0.010337     -0.006763     0.010738  0.021693   \n",
       "\n",
       "                    day_of_week  day_of_month  \n",
       "VendorID              -0.000166      0.002404  \n",
       "passenger_count       -0.027214     -0.007069  \n",
       "trip_distance         -0.017978     -0.014872  \n",
       "RatecodeID                  NaN           NaN  \n",
       "store_and_fwd_flag          NaN           NaN  \n",
       "PULocationID           0.021284      0.017682  \n",
       "DOLocationID           0.027131      0.003291  \n",
       "payment_type          -0.023185      0.010337  \n",
       "trip_seconds           0.023226     -0.006763  \n",
       "pickup_hour            0.025668      0.010738  \n",
       "month                 -0.000501      0.021693  \n",
       "day_of_week            1.000000      0.003631  \n",
       "day_of_month           0.003631      1.000000  "
      ]
     },
     "execution_count": 25,
     "metadata": {},
     "output_type": "execute_result"
    }
   ],
   "source": [
    "X.corr() # Корреляционная матрица"
   ]
  },
  {
   "cell_type": "markdown",
   "metadata": {},
   "source": [
    "После удаления выбросов получилось так, что категориальные переменные RatecodeID и store_and_fwd_flag принимают только одно значение, так как матрица показывает NaN"
   ]
  },
  {
   "cell_type": "code",
   "execution_count": 26,
   "metadata": {},
   "outputs": [
    {
     "data": {
      "text/plain": [
       "VendorID                 2\n",
       "passenger_count          4\n",
       "trip_distance          596\n",
       "RatecodeID               1\n",
       "store_and_fwd_flag       1\n",
       "PULocationID           129\n",
       "DOLocationID           156\n",
       "payment_type             3\n",
       "trip_seconds          1697\n",
       "pickup_hour             24\n",
       "month                   12\n",
       "day_of_week              7\n",
       "day_of_month            31\n",
       "dtype: int64"
      ]
     },
     "execution_count": 26,
     "metadata": {},
     "output_type": "execute_result"
    }
   ],
   "source": [
    "X.nunique() # Смотрю на количество классов для каждой переменной "
   ]
  },
  {
   "cell_type": "markdown",
   "metadata": {},
   "source": [
    "Подтвержается, что они принимают только одно значение. Я могу удалить их из данных. "
   ]
  },
  {
   "cell_type": "code",
   "execution_count": 27,
   "metadata": {},
   "outputs": [
    {
     "data": {
      "text/html": [
       "<div>\n",
       "<style scoped>\n",
       "    .dataframe tbody tr th:only-of-type {\n",
       "        vertical-align: middle;\n",
       "    }\n",
       "\n",
       "    .dataframe tbody tr th {\n",
       "        vertical-align: top;\n",
       "    }\n",
       "\n",
       "    .dataframe thead th {\n",
       "        text-align: right;\n",
       "    }\n",
       "</style>\n",
       "<table border=\"1\" class=\"dataframe\">\n",
       "  <thead>\n",
       "    <tr style=\"text-align: right;\">\n",
       "      <th></th>\n",
       "      <th>VendorID</th>\n",
       "      <th>passenger_count</th>\n",
       "      <th>trip_distance</th>\n",
       "      <th>PULocationID</th>\n",
       "      <th>DOLocationID</th>\n",
       "      <th>payment_type</th>\n",
       "      <th>trip_seconds</th>\n",
       "      <th>pickup_hour</th>\n",
       "      <th>month</th>\n",
       "      <th>day_of_week</th>\n",
       "      <th>day_of_month</th>\n",
       "    </tr>\n",
       "  </thead>\n",
       "  <tbody>\n",
       "    <tr>\n",
       "      <th>VendorID</th>\n",
       "      <td>1.000000</td>\n",
       "      <td>0.098506</td>\n",
       "      <td>0.019447</td>\n",
       "      <td>-0.023785</td>\n",
       "      <td>-0.029787</td>\n",
       "      <td>-0.003524</td>\n",
       "      <td>-0.007872</td>\n",
       "      <td>0.001662</td>\n",
       "      <td>-0.005169</td>\n",
       "      <td>-0.000166</td>\n",
       "      <td>0.002404</td>\n",
       "    </tr>\n",
       "    <tr>\n",
       "      <th>passenger_count</th>\n",
       "      <td>0.098506</td>\n",
       "      <td>1.000000</td>\n",
       "      <td>0.029330</td>\n",
       "      <td>-0.021488</td>\n",
       "      <td>-0.001343</td>\n",
       "      <td>0.024995</td>\n",
       "      <td>0.027258</td>\n",
       "      <td>0.033037</td>\n",
       "      <td>-0.006615</td>\n",
       "      <td>-0.027214</td>\n",
       "      <td>-0.007069</td>\n",
       "    </tr>\n",
       "    <tr>\n",
       "      <th>trip_distance</th>\n",
       "      <td>0.019447</td>\n",
       "      <td>0.029330</td>\n",
       "      <td>1.000000</td>\n",
       "      <td>-0.051563</td>\n",
       "      <td>-0.091615</td>\n",
       "      <td>-0.077188</td>\n",
       "      <td>0.706767</td>\n",
       "      <td>-0.013792</td>\n",
       "      <td>-0.011591</td>\n",
       "      <td>-0.017978</td>\n",
       "      <td>-0.014872</td>\n",
       "    </tr>\n",
       "    <tr>\n",
       "      <th>PULocationID</th>\n",
       "      <td>-0.023785</td>\n",
       "      <td>-0.021488</td>\n",
       "      <td>-0.051563</td>\n",
       "      <td>1.000000</td>\n",
       "      <td>0.102184</td>\n",
       "      <td>-0.004636</td>\n",
       "      <td>-0.028299</td>\n",
       "      <td>0.036564</td>\n",
       "      <td>0.002639</td>\n",
       "      <td>0.021284</td>\n",
       "      <td>0.017682</td>\n",
       "    </tr>\n",
       "    <tr>\n",
       "      <th>DOLocationID</th>\n",
       "      <td>-0.029787</td>\n",
       "      <td>-0.001343</td>\n",
       "      <td>-0.091615</td>\n",
       "      <td>0.102184</td>\n",
       "      <td>1.000000</td>\n",
       "      <td>-0.003995</td>\n",
       "      <td>-0.044641</td>\n",
       "      <td>0.014205</td>\n",
       "      <td>-0.006390</td>\n",
       "      <td>0.027131</td>\n",
       "      <td>0.003291</td>\n",
       "    </tr>\n",
       "    <tr>\n",
       "      <th>payment_type</th>\n",
       "      <td>-0.003524</td>\n",
       "      <td>0.024995</td>\n",
       "      <td>-0.077188</td>\n",
       "      <td>-0.004636</td>\n",
       "      <td>-0.003995</td>\n",
       "      <td>1.000000</td>\n",
       "      <td>-0.067107</td>\n",
       "      <td>-0.021670</td>\n",
       "      <td>-0.017997</td>\n",
       "      <td>-0.023185</td>\n",
       "      <td>0.010337</td>\n",
       "    </tr>\n",
       "    <tr>\n",
       "      <th>trip_seconds</th>\n",
       "      <td>-0.007872</td>\n",
       "      <td>0.027258</td>\n",
       "      <td>0.706767</td>\n",
       "      <td>-0.028299</td>\n",
       "      <td>-0.044641</td>\n",
       "      <td>-0.067107</td>\n",
       "      <td>1.000000</td>\n",
       "      <td>0.068415</td>\n",
       "      <td>0.013245</td>\n",
       "      <td>0.023226</td>\n",
       "      <td>-0.006763</td>\n",
       "    </tr>\n",
       "    <tr>\n",
       "      <th>pickup_hour</th>\n",
       "      <td>0.001662</td>\n",
       "      <td>0.033037</td>\n",
       "      <td>-0.013792</td>\n",
       "      <td>0.036564</td>\n",
       "      <td>0.014205</td>\n",
       "      <td>-0.021670</td>\n",
       "      <td>0.068415</td>\n",
       "      <td>1.000000</td>\n",
       "      <td>0.005459</td>\n",
       "      <td>0.025668</td>\n",
       "      <td>0.010738</td>\n",
       "    </tr>\n",
       "    <tr>\n",
       "      <th>month</th>\n",
       "      <td>-0.005169</td>\n",
       "      <td>-0.006615</td>\n",
       "      <td>-0.011591</td>\n",
       "      <td>0.002639</td>\n",
       "      <td>-0.006390</td>\n",
       "      <td>-0.017997</td>\n",
       "      <td>0.013245</td>\n",
       "      <td>0.005459</td>\n",
       "      <td>1.000000</td>\n",
       "      <td>-0.000501</td>\n",
       "      <td>0.021693</td>\n",
       "    </tr>\n",
       "    <tr>\n",
       "      <th>day_of_week</th>\n",
       "      <td>-0.000166</td>\n",
       "      <td>-0.027214</td>\n",
       "      <td>-0.017978</td>\n",
       "      <td>0.021284</td>\n",
       "      <td>0.027131</td>\n",
       "      <td>-0.023185</td>\n",
       "      <td>0.023226</td>\n",
       "      <td>0.025668</td>\n",
       "      <td>-0.000501</td>\n",
       "      <td>1.000000</td>\n",
       "      <td>0.003631</td>\n",
       "    </tr>\n",
       "    <tr>\n",
       "      <th>day_of_month</th>\n",
       "      <td>0.002404</td>\n",
       "      <td>-0.007069</td>\n",
       "      <td>-0.014872</td>\n",
       "      <td>0.017682</td>\n",
       "      <td>0.003291</td>\n",
       "      <td>0.010337</td>\n",
       "      <td>-0.006763</td>\n",
       "      <td>0.010738</td>\n",
       "      <td>0.021693</td>\n",
       "      <td>0.003631</td>\n",
       "      <td>1.000000</td>\n",
       "    </tr>\n",
       "  </tbody>\n",
       "</table>\n",
       "</div>"
      ],
      "text/plain": [
       "                 VendorID  passenger_count  trip_distance  PULocationID  \\\n",
       "VendorID         1.000000         0.098506       0.019447     -0.023785   \n",
       "passenger_count  0.098506         1.000000       0.029330     -0.021488   \n",
       "trip_distance    0.019447         0.029330       1.000000     -0.051563   \n",
       "PULocationID    -0.023785        -0.021488      -0.051563      1.000000   \n",
       "DOLocationID    -0.029787        -0.001343      -0.091615      0.102184   \n",
       "payment_type    -0.003524         0.024995      -0.077188     -0.004636   \n",
       "trip_seconds    -0.007872         0.027258       0.706767     -0.028299   \n",
       "pickup_hour      0.001662         0.033037      -0.013792      0.036564   \n",
       "month           -0.005169        -0.006615      -0.011591      0.002639   \n",
       "day_of_week     -0.000166        -0.027214      -0.017978      0.021284   \n",
       "day_of_month     0.002404        -0.007069      -0.014872      0.017682   \n",
       "\n",
       "                 DOLocationID  payment_type  trip_seconds  pickup_hour  \\\n",
       "VendorID            -0.029787     -0.003524     -0.007872     0.001662   \n",
       "passenger_count     -0.001343      0.024995      0.027258     0.033037   \n",
       "trip_distance       -0.091615     -0.077188      0.706767    -0.013792   \n",
       "PULocationID         0.102184     -0.004636     -0.028299     0.036564   \n",
       "DOLocationID         1.000000     -0.003995     -0.044641     0.014205   \n",
       "payment_type        -0.003995      1.000000     -0.067107    -0.021670   \n",
       "trip_seconds        -0.044641     -0.067107      1.000000     0.068415   \n",
       "pickup_hour          0.014205     -0.021670      0.068415     1.000000   \n",
       "month               -0.006390     -0.017997      0.013245     0.005459   \n",
       "day_of_week          0.027131     -0.023185      0.023226     0.025668   \n",
       "day_of_month         0.003291      0.010337     -0.006763     0.010738   \n",
       "\n",
       "                    month  day_of_week  day_of_month  \n",
       "VendorID        -0.005169    -0.000166      0.002404  \n",
       "passenger_count -0.006615    -0.027214     -0.007069  \n",
       "trip_distance   -0.011591    -0.017978     -0.014872  \n",
       "PULocationID     0.002639     0.021284      0.017682  \n",
       "DOLocationID    -0.006390     0.027131      0.003291  \n",
       "payment_type    -0.017997    -0.023185      0.010337  \n",
       "trip_seconds     0.013245     0.023226     -0.006763  \n",
       "pickup_hour      0.005459     0.025668      0.010738  \n",
       "month            1.000000    -0.000501      0.021693  \n",
       "day_of_week     -0.000501     1.000000      0.003631  \n",
       "day_of_month     0.021693     0.003631      1.000000  "
      ]
     },
     "execution_count": 27,
     "metadata": {},
     "output_type": "execute_result"
    }
   ],
   "source": [
    "X = X.drop(['RatecodeID', 'store_and_fwd_flag'], axis=1)\n",
    "\n",
    "X.corr()"
   ]
  },
  {
   "cell_type": "code",
   "execution_count": 28,
   "metadata": {},
   "outputs": [
    {
     "data": {
      "text/plain": [
       "VendorID           False\n",
       "passenger_count    False\n",
       "trip_distance      False\n",
       "PULocationID       False\n",
       "DOLocationID       False\n",
       "payment_type       False\n",
       "trip_seconds       False\n",
       "pickup_hour        False\n",
       "month              False\n",
       "day_of_week        False\n",
       "day_of_month       False\n",
       "dtype: bool"
      ]
     },
     "execution_count": 28,
     "metadata": {},
     "output_type": "execute_result"
    }
   ],
   "source": [
    "(X.corr() > 0.8).sum() > 1"
   ]
  },
  {
   "cell_type": "markdown",
   "metadata": {},
   "source": [
    "Не наблюдается корреляции выше 0.8, что говорит о том, что мультиколлинеарности в данных нет "
   ]
  },
  {
   "cell_type": "markdown",
   "metadata": {},
   "source": [
    "# Линейная регрессия"
   ]
  },
  {
   "cell_type": "code",
   "execution_count": 29,
   "metadata": {},
   "outputs": [],
   "source": [
    "from sklearn.model_selection import train_test_split\n",
    "from statsmodels.api import add_constant\n",
    "\n",
    "X = add_constant(X) # Добавили вектор единиц к данным\n",
    "\n",
    "X_train, X_test, y_train, y_test = train_test_split(X, y, test_size=0.2, random_state=13)"
   ]
  },
  {
   "cell_type": "code",
   "execution_count": 30,
   "metadata": {},
   "outputs": [
    {
     "name": "stdout",
     "output_type": "stream",
     "text": [
      "                            OLS Regression Results                            \n",
      "==============================================================================\n",
      "Dep. Variable:           total_amount   R-squared:                       0.939\n",
      "Model:                            OLS   Adj. R-squared:                  0.939\n",
      "Method:                 Least Squares   F-statistic:                 1.954e+04\n",
      "Date:                Fri, 27 Oct 2023   Prob (F-statistic):               0.00\n",
      "Time:                        12:17:42   Log-Likelihood:                -22206.\n",
      "No. Observations:               13886   AIC:                         4.444e+04\n",
      "Df Residuals:                   13874   BIC:                         4.453e+04\n",
      "Df Model:                          11                                         \n",
      "Covariance Type:            nonrobust                                         \n",
      "===================================================================================\n",
      "                      coef    std err          t      P>|t|      [0.025      0.975]\n",
      "-----------------------------------------------------------------------------------\n",
      "const              16.6072      0.016   1009.481      0.000      16.575      16.639\n",
      "VendorID           -0.0582      0.010     -5.723      0.000      -0.078      -0.038\n",
      "passenger_count    -0.0186      0.025     -0.755      0.450      -0.067       0.030\n",
      "trip_distance       6.8303      0.045    152.671      0.000       6.743       6.918\n",
      "PULocationID       -0.0046      0.010     -0.458      0.647      -0.024       0.015\n",
      "DOLocationID       -0.0037      0.010     -0.358      0.720      -0.024       0.017\n",
      "payment_type       -0.9111      0.010    -87.420      0.000      -0.932      -0.891\n",
      "trip_seconds       26.7920      0.145    184.212      0.000      26.507      27.077\n",
      "pickup_hour         0.1480      0.010     14.418      0.000       0.128       0.168\n",
      "month               0.0003      0.010      0.029      0.977      -0.020       0.020\n",
      "day_of_week         0.0219      0.010      2.152      0.031       0.002       0.042\n",
      "day_of_month        0.0046      0.010      0.449      0.654      -0.015       0.024\n",
      "==============================================================================\n",
      "Omnibus:                    25492.827   Durbin-Watson:                   2.000\n",
      "Prob(Omnibus):                  0.000   Jarque-Bera (JB):        175281913.506\n",
      "Skew:                          12.980   Prob(JB):                         0.00\n",
      "Kurtosis:                     552.797   Cond. No.                         16.7\n",
      "==============================================================================\n",
      "\n",
      "Notes:\n",
      "[1] Standard Errors assume that the covariance matrix of the errors is correctly specified.\n"
     ]
    }
   ],
   "source": [
    "from statsmodels.api import OLS # Линейная регрессия\n",
    "\n",
    "ols = OLS(y_train, X_train)\n",
    "fitted_ols = ols.fit()\n",
    "\n",
    "print(fitted_ols.summary())"
   ]
  },
  {
   "cell_type": "markdown",
   "metadata": {},
   "source": [
    "- Модель на обучающих данных объясняет 94% дисперсии зависимой переменной.\n",
    "- На уровне значимости 5% регрессия в целом значима\n",
    "- Существуют незначимые признаки на уровне значимости 5%"
   ]
  },
  {
   "cell_type": "markdown",
   "metadata": {},
   "source": [
    "Удалю незначимые признаки и заново обучу модель:"
   ]
  },
  {
   "cell_type": "code",
   "execution_count": 31,
   "metadata": {},
   "outputs": [],
   "source": [
    "pvalues = pd.Series(fitted_ols.pvalues)\n",
    "significant_features = pvalues[pvalues < 0.05].index # Значимые признаки\n",
    "\n",
    "X_train = X_train[significant_features]\n",
    "X_test = X_test[significant_features]"
   ]
  },
  {
   "cell_type": "code",
   "execution_count": 32,
   "metadata": {},
   "outputs": [
    {
     "name": "stdout",
     "output_type": "stream",
     "text": [
      "                            OLS Regression Results                            \n",
      "==============================================================================\n",
      "Dep. Variable:           total_amount   R-squared:                       0.939\n",
      "Model:                            OLS   Adj. R-squared:                  0.939\n",
      "Method:                 Least Squares   F-statistic:                 3.583e+04\n",
      "Date:                Fri, 27 Oct 2023   Prob (F-statistic):               0.00\n",
      "Time:                        12:17:42   Log-Likelihood:                -22207.\n",
      "No. Observations:               13886   AIC:                         4.443e+04\n",
      "Df Residuals:                   13879   BIC:                         4.448e+04\n",
      "Df Model:                           6                                         \n",
      "Covariance Type:            nonrobust                                         \n",
      "=================================================================================\n",
      "                    coef    std err          t      P>|t|      [0.025      0.975]\n",
      "---------------------------------------------------------------------------------\n",
      "const            16.6128      0.015   1121.936      0.000      16.584      16.642\n",
      "VendorID         -0.0588      0.010     -5.806      0.000      -0.079      -0.039\n",
      "trip_distance     6.8317      0.045    153.416      0.000       6.744       6.919\n",
      "payment_type     -0.9112      0.010    -87.497      0.000      -0.932      -0.891\n",
      "trip_seconds     26.7894      0.145    184.387      0.000      26.505      27.074\n",
      "pickup_hour       0.1475      0.010     14.396      0.000       0.127       0.168\n",
      "day_of_week       0.0220      0.010      2.163      0.031       0.002       0.042\n",
      "==============================================================================\n",
      "Omnibus:                    25494.100   Durbin-Watson:                   1.999\n",
      "Prob(Omnibus):                  0.000   Jarque-Bera (JB):        175336958.446\n",
      "Skew:                          12.981   Prob(JB):                         0.00\n",
      "Kurtosis:                     552.883   Cond. No.                         15.8\n",
      "==============================================================================\n",
      "\n",
      "Notes:\n",
      "[1] Standard Errors assume that the covariance matrix of the errors is correctly specified.\n"
     ]
    }
   ],
   "source": [
    "ols = OLS(y_train, X_train)\n",
    "fitted_ols = ols.fit()\n",
    "\n",
    "print(fitted_ols.summary())"
   ]
  },
  {
   "cell_type": "markdown",
   "metadata": {},
   "source": [
    "Видно, что модель хуже не стала. Признаки были удалены правильно.\n",
    "\n",
    "Самым влиятельным признаком яляется время поездки, когда как самым невлиятельным из значимых является день недели"
   ]
  },
  {
   "cell_type": "markdown",
   "metadata": {},
   "source": [
    "Оценю модель на тестовых данных:"
   ]
  },
  {
   "cell_type": "code",
   "execution_count": 33,
   "metadata": {},
   "outputs": [],
   "source": [
    "y_pred = fitted_ols.predict(X_test)"
   ]
  },
  {
   "cell_type": "code",
   "execution_count": 34,
   "metadata": {},
   "outputs": [
    {
     "name": "stdout",
     "output_type": "stream",
     "text": [
      "MAE: 0.7088955034121306\n",
      "MAPE: 0.06325398209552971\n",
      "R^2: 0.9489256173349722\n",
      "\n"
     ]
    }
   ],
   "source": [
    "from sklearn.metrics import mean_absolute_error, mean_absolute_percentage_error, r2_score\n",
    "\n",
    "print(f\"\"\"MAE: {mean_absolute_error(y_test, y_pred)}\n",
    "MAPE: {mean_absolute_percentage_error(y_test, y_pred)}\n",
    "R^2: {r2_score(y_test, y_pred)}\n",
    "\"\"\")"
   ]
  },
  {
   "cell_type": "markdown",
   "metadata": {},
   "source": [
    "- Мы видим, что на нашей тестовой выборке модель описывает данные лучше, чем на обучающей. \n",
    "- В среднем, ошибка отклоняется от истинного значения на 6%"
   ]
  },
  {
   "cell_type": "code",
   "execution_count": 35,
   "metadata": {},
   "outputs": [
    {
     "data": {
      "text/plain": [
       "Text(0, 0.5, 'Предсказания')"
      ]
     },
     "execution_count": 35,
     "metadata": {},
     "output_type": "execute_result"
    },
    {
     "data": {
      "image/png": "[encoded data removed]",
      "text/plain": [
       "<Figure size 640x480 with 1 Axes>"
      ]
     },
     "metadata": {},
     "output_type": "display_data"
    }
   ],
   "source": [
    "sns.scatterplot(x=y_test, y=y_pred)\n",
    "plt.plot([0, 40], [0, 40], c='r')\n",
    "plt.xlabel('Реальные значения')\n",
    "plt.ylabel('Предсказания')"
   ]
  },
  {
   "cell_type": "markdown",
   "metadata": {},
   "source": [
    "Графически видно, что модель хорошая и наблюдения сконцентрированны у красной линии, что есть хорошо"
   ]
  },
  {
   "cell_type": "markdown",
   "metadata": {},
   "source": [
    "**Тест на нормальность ошибок**"
   ]
  },
  {
   "cell_type": "markdown",
   "metadata": {},
   "source": [
    "H0 -> errors ~ N\n",
    "\n",
    "H1 -> errors любые другие"
   ]
  },
  {
   "cell_type": "code",
   "execution_count": 36,
   "metadata": {},
   "outputs": [
    {
     "data": {
      "text/plain": [
       "ShapiroResult(statistic=0.8283339738845825, pvalue=0.0)"
      ]
     },
     "execution_count": 36,
     "metadata": {},
     "output_type": "execute_result"
    }
   ],
   "source": [
    "errors = y_pred - y_test\n",
    "\n",
    "stats.shapiro(errors)"
   ]
  },
  {
   "cell_type": "markdown",
   "metadata": {},
   "source": [
    "Пусть alpha = 0.05, тогда p-value < alpha, следовательно мы отвергаем H0 и считаем данные ненормальными"
   ]
  },
  {
   "cell_type": "code",
   "execution_count": 37,
   "metadata": {},
   "outputs": [
    {
     "data": {
      "text/plain": [
       "<Axes: ylabel='Count'>"
      ]
     },
     "execution_count": 37,
     "metadata": {},
     "output_type": "execute_result"
    },
    {
     "data": {
      "image/png": "[encoded data removed]",
      "text/plain": [
       "<Figure size 640x480 with 1 Axes>"
      ]
     },
     "metadata": {},
     "output_type": "display_data"
    }
   ],
   "source": [
    "sns.histplot(errors)"
   ]
  },
  {
   "cell_type": "code",
   "execution_count": 38,
   "metadata": {},
   "outputs": [
    {
     "data": {
      "image/png": "[encoded data removed]",
      "text/plain": [
       "<Figure size 640x480 with 1 Axes>"
      ]
     },
     "metadata": {},
     "output_type": "display_data"
    }
   ],
   "source": [
    "from statsmodels.api import qqplot  # Квнтиль-квантиль плот\n",
    "\n",
    "qqplot(errors, line='45', fit=True)\n",
    "plt.show()"
   ]
  },
  {
   "cell_type": "markdown",
   "metadata": {},
   "source": [
    "Мы видим, что есть большие отклонения от красной линии, которая говорит об идеальном нормальном распределении. Видны сильные выбросы в отрицательную сторону"
   ]
  },
  {
   "cell_type": "markdown",
   "metadata": {},
   "source": [
    "Вывод:\n",
    "\n",
    "- Была построена модель, которая может с хорошей точностью может предсказывать цену на такси"
   ]
  },
  {
   "cell_type": "markdown",
   "metadata": {},
   "source": [
    "# Регрессия с регуляризацией"
   ]
  },
  {
   "cell_type": "markdown",
   "metadata": {},
   "source": [
    "Для того, чтобы сделать модель более устойчивую к изменениям в данных, используем регуляризатор, который будет штрафовать модель за большие веса. "
   ]
  },
  {
   "cell_type": "code",
   "execution_count": 39,
   "metadata": {},
   "outputs": [
    {
     "data": {
      "text/plain": [
       "0.001"
      ]
     },
     "execution_count": 39,
     "metadata": {},
     "output_type": "execute_result"
    }
   ],
   "source": [
    "from sklearn.linear_model import RidgeCV \n",
    "\n",
    "ridge = RidgeCV(\n",
    "    alphas=np.linspace(0.001, 10, 100), \n",
    "    cv=4 # Количество фолдов кросс-валидации\n",
    ")\n",
    "\n",
    "ridge.fit(X_train, y_train)\n",
    "ridge.alpha_"
   ]
  },
  {
   "cell_type": "code",
   "execution_count": 40,
   "metadata": {},
   "outputs": [
    {
     "name": "stdout",
     "output_type": "stream",
     "text": [
      "MAE: 0.7088963737361927\n",
      "MAPE: 0.06325406531872317\n",
      "R^2: 0.9489256022951658\n",
      "\n"
     ]
    }
   ],
   "source": [
    "y_pred_ridge = ridge.predict(X_test)\n",
    "\n",
    "print(f\"\"\"MAE: {mean_absolute_error(y_test, y_pred_ridge)}\n",
    "MAPE: {mean_absolute_percentage_error(y_test, y_pred_ridge)}\n",
    "R^2: {r2_score(y_test, y_pred_ridge)}\n",
    "\"\"\")"
   ]
  },
  {
   "cell_type": "markdown",
   "metadata": {},
   "source": [
    "Мы видим, что модель получилась такой же, как и модель классической регрессии. Связано это с тем, что коэффициент регуляризации после обучения принял самое наименьшее значение. Значит регуляризация почти не влияет на модель, а если будет влиять, то будет влиять отрицательно  "
   ]
  },
  {
   "cell_type": "code",
   "execution_count": 41,
   "metadata": {},
   "outputs": [
    {
     "data": {
      "text/plain": [
       "Text(0, 0.5, 'Предсказания')"
      ]
     },
     "execution_count": 41,
     "metadata": {},
     "output_type": "execute_result"
    },
    {
     "data": {
      "image/png": "[encoded data removed]",
      "text/plain": [
       "<Figure size 640x480 with 1 Axes>"
      ]
     },
     "metadata": {},
     "output_type": "display_data"
    }
   ],
   "source": [
    "sns.scatterplot(x=y_test, y=y_pred, label='Регрессия')\n",
    "sns.scatterplot(x=y_test, y=y_pred_ridge, label='Гребневая регрессия')\n",
    "plt.plot([0, 40], [0, 40], c='r')\n",
    "plt.xlabel('Реальные значения')\n",
    "plt.ylabel('Предсказания')"
   ]
  },
  {
   "cell_type": "markdown",
   "metadata": {},
   "source": [
    "Видно, что предсказания после регуляризации абсолютно совпали с классичесуой регрессией"
   ]
  },
  {
   "cell_type": "markdown",
   "metadata": {},
   "source": [
    "# Логистическая регрессия"
   ]
  },
  {
   "cell_type": "markdown",
   "metadata": {},
   "source": [
    "Перезапишу целевой признак в бинарный"
   ]
  },
  {
   "cell_type": "code",
   "execution_count": 42,
   "metadata": {},
   "outputs": [],
   "source": [
    "y_median = pd.concat([y_train, y_test]).median()\n",
    "\n",
    "y_train = np.where(y_train > y_median, 1, 0)\n",
    "y_test = np.where(y_test > y_median, 1, 0)"
   ]
  },
  {
   "cell_type": "markdown",
   "metadata": {},
   "source": [
    "Обучу модель и получу метрики качества"
   ]
  },
  {
   "cell_type": "code",
   "execution_count": 43,
   "metadata": {},
   "outputs": [
    {
     "name": "stdout",
     "output_type": "stream",
     "text": [
      "\n",
      "Матрица ошибок:\n",
      "TP = 1638  FP = 82\n",
      "FN = 98   TN = 1654\n",
      "\n",
      "Метрики качества:\n",
      "accuracy = 0.9481566820276498\n",
      "precision = 0.9523255813953488\n",
      "recall = 0.9435483870967742\n",
      "f1 = 0.9479166666666666\n",
      "\n"
     ]
    }
   ],
   "source": [
    "from sklearn.linear_model import LogisticRegression\n",
    "from sklearn.metrics import confusion_matrix, accuracy_score, precision_score, recall_score, f1_score\n",
    "\n",
    "lr = LogisticRegression()\n",
    "lr.fit(X_train, y_train)\n",
    "\n",
    "y_pred = lr.predict(X_test)\n",
    "\n",
    "tn, fp, fn, tp = confusion_matrix(y_test, y_pred).ravel() #ravel преобразовывает многомерный массив в одномерный\n",
    "\n",
    "print(f\"\"\"\n",
    "Матрица ошибок:\n",
    "TP = {tp}  FP = {fp}\n",
    "FN = {fn}   TN = {tn}\n",
    "\n",
    "Метрики качества:\n",
    "accuracy = {accuracy_score(y_test, y_pred)}\n",
    "precision = {precision_score(y_test, y_pred)}\n",
    "recall = {recall_score(y_test, y_pred)}\n",
    "f1 = {f1_score(y_test, y_pred)}\n",
    "\"\"\")"
   ]
  },
  {
   "cell_type": "markdown",
   "metadata": {},
   "source": [
    "- True Positive (TP): Количество правильно классифицированных положительных примеров.\n",
    "- True Negative (TN): Количество правильно классифицированных отрицательных примеров.\n",
    "- False Positive (FP): Количество отрицательных примеров, неверно классифицированных как положительные.\n",
    "- False Negative (FN): Количество положительных примеров, неверно классифицированных как отрицательные."
   ]
  },
  {
   "cell_type": "markdown",
   "metadata": {},
   "source": [
    "Видно, что 95% предсказаний верны, что является хорошим результатом"
   ]
  },
  {
   "cell_type": "markdown",
   "metadata": {},
   "source": [
    "# Случайный лес"
   ]
  },
  {
   "cell_type": "code",
   "execution_count": 44,
   "metadata": {},
   "outputs": [
    {
     "name": "stdout",
     "output_type": "stream",
     "text": [
      "\n",
      "TP = 1668  FP = 85\n",
      "FN = 68   TN = 1651\n",
      "\n",
      "accuracy = 0.9559331797235023\n",
      "precision = 0.9515116942384484\n",
      "recall = 0.9608294930875576\n",
      "f1 = 0.9561478933791918\n",
      "\n"
     ]
    }
   ],
   "source": [
    "from sklearn.ensemble import RandomForestClassifier\n",
    "\n",
    "lr = RandomForestClassifier()\n",
    "lr.fit(X_train, y_train)\n",
    "\n",
    "y_pred = lr.predict(X_test)\n",
    "\n",
    "tn, fp, fn, tp = confusion_matrix(y_test, y_pred).ravel() \n",
    "\n",
    "print(f\"\"\"\n",
    "TP = {tp}  FP = {fp}\n",
    "FN = {fn}   TN = {tn}\n",
    "\n",
    "accuracy = {accuracy_score(y_test, y_pred)}\n",
    "precision = {precision_score(y_test, y_pred)}\n",
    "recall = {recall_score(y_test, y_pred)}\n",
    "f1 = {f1_score(y_test, y_pred)}\n",
    "\"\"\")"
   ]
  },
  {
   "cell_type": "markdown",
   "metadata": {},
   "source": [
    "Мы видим, что случайный лес, обученный на стандартных параметрах, показывает результаты лучше логистической регрессии. Для классификации лучше использовать его."
   ]
  },
  {
   "cell_type": "markdown",
   "metadata": {},
   "source": [
    "# Кластеризация"
   ]
  },
  {
   "cell_type": "markdown",
   "metadata": {},
   "source": [
    "Создам датафрейм для кластеризации"
   ]
  },
  {
   "cell_type": "code",
   "execution_count": 45,
   "metadata": {},
   "outputs": [],
   "source": [
    "data_claster = pd.concat(\n",
    "    [X, stats.zscore(y)], \n",
    "    axis=1\n",
    ")"
   ]
  },
  {
   "cell_type": "markdown",
   "metadata": {},
   "source": [
    "Определю оптимальное число кластеров"
   ]
  },
  {
   "cell_type": "code",
   "execution_count": 46,
   "metadata": {},
   "outputs": [
    {
     "data": {
      "image/png": "[encoded data removed]",
      "text/plain": [
       "<Figure size 1000x600 with 1 Axes>"
      ]
     },
     "metadata": {},
     "output_type": "display_data"
    }
   ],
   "source": [
    "from sklearn.cluster import KMeans\n",
    "\n",
    "inertia_values = []\n",
    "\n",
    "for k in range(1, 10):\n",
    "    model = KMeans(n_clusters=k, n_init='auto', random_state=16)\n",
    "    model.fit(data_claster)\n",
    "    inertia_values.append(model.inertia_)\n",
    "\n",
    "# Построение графика\n",
    "plt.figure(figsize=(10, 6))\n",
    "plt.plot(range(1, 10), inertia_values, marker='o')\n",
    "plt.xlabel('Число кластеров')\n",
    "plt.ylabel('Inertia')\n",
    "plt.title('Метод локтя')\n",
    "plt.xticks(range(1, 10))\n",
    "plt.grid(True)\n",
    "plt.show()"
   ]
  },
  {
   "cell_type": "markdown",
   "metadata": {},
   "source": [
    "Самый сильный изгиб график приобретает в точке 4. Поэтому построю кластеризацию по 4рём кластерам"
   ]
  },
  {
   "cell_type": "code",
   "execution_count": 47,
   "metadata": {},
   "outputs": [
    {
     "data": {
      "text/plain": [
       "0    5350\n",
       "3    4804\n",
       "1    4590\n",
       "2    2614\n",
       "dtype: int64"
      ]
     },
     "execution_count": 47,
     "metadata": {},
     "output_type": "execute_result"
    }
   ],
   "source": [
    "kmeans = KMeans(n_clusters=4, n_init='auto', random_state=16)\n",
    "kmeans.fit(data_claster)\n",
    "\n",
    "pd.Series(kmeans.labels_).value_counts() # Выведу сколько наблюдений попало в каждый из кластеров"
   ]
  },
  {
   "cell_type": "markdown",
   "metadata": {},
   "source": [
    "Средняя цена поездки в каждом из кластеров"
   ]
  },
  {
   "cell_type": "code",
   "execution_count": 48,
   "metadata": {},
   "outputs": [
    {
     "data": {
      "text/plain": [
       "<Axes: ylabel='total_amount'>"
      ]
     },
     "execution_count": 48,
     "metadata": {},
     "output_type": "execute_result"
    },
    {
     "data": {
      "image/png": "[encoded data removed]",
      "text/plain": [
       "<Figure size 640x480 with 1 Axes>"
      ]
     },
     "metadata": {},
     "output_type": "display_data"
    }
   ],
   "source": [
    "sns.barplot(x=kmeans.labels_, y=y)"
   ]
  },
  {
   "cell_type": "markdown",
   "metadata": {},
   "source": [
    "Один кластер имеет гораздо более высокую среднюю стоимость поездки, чем остальные, и один из кластеров - ниже, чем оставшиеся два"
   ]
  }
 ],
 "metadata": {
  "kernelspec": {
   "display_name": "base",
   "language": "python",
   "name": "python3"
  },
  "language_info": {
   "codemirror_mode": {
    "name": "ipython",
    "version": 3
   },
   "file_extension": ".py",
   "mimetype": "text/x-python",
   "name": "python",
   "nbconvert_exporter": "python",
   "pygments_lexer": "ipython3",
   "version": "3.10.9"
  }
 },
 "nbformat": 4,
 "nbformat_minor": 2
}
